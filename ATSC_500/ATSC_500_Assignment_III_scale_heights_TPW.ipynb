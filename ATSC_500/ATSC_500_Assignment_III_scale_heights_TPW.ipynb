{
 "cells": [
  {
   "cell_type": "markdown",
   "metadata": {},
   "source": [
    "# ATSC-500 Assignment III (scale heights & TPW)"
   ]
  },
  {
   "cell_type": "code",
   "execution_count": 1,
   "metadata": {},
   "outputs": [],
   "source": [
    "import numpy as np\n",
    "import pandas as pd\n",
    "import netCDF4 as nc\n",
    "from glob import glob\n",
    "from os.path import basename\n",
    "import matplotlib.pyplot as plt\n",
    "import matplotlib.gridspec as gridspec\n",
    "% matplotlib inline"
   ]
  },
  {
   "cell_type": "markdown",
   "metadata": {},
   "source": [
    "# Import data"
   ]
  },
  {
   "cell_type": "code",
   "execution_count": 2,
   "metadata": {},
   "outputs": [
    {
     "name": "stdout",
     "output_type": "stream",
     "text": [
      "importing _data/ATSC-500/std_soundings/midsummer.csv\n",
      "importing _data/ATSC-500/std_soundings/midwinter.csv\n",
      "importing _data/ATSC-500/std_soundings/subwinter.csv\n",
      "importing _data/ATSC-500/std_soundings/tropics.csv\n",
      "importing _data/ATSC-500/std_soundings/subsummer.csv\n"
     ]
    }
   ],
   "source": [
    "csv_names = glob('_data/ATSC-500/std_soundings/*.csv')\n",
    "\n",
    "sound_dict={}\n",
    "for name in csv_names:\n",
    "    print('importing '+name)\n",
    "    sound_dict[basename(name[:-4])] = pd.read_csv(name)"
   ]
  },
  {
   "cell_type": "code",
   "execution_count": 3,
   "metadata": {},
   "outputs": [
    {
     "data": {
      "text/html": [
       "<div>\n",
       "<style scoped>\n",
       "    .dataframe tbody tr th:only-of-type {\n",
       "        vertical-align: middle;\n",
       "    }\n",
       "\n",
       "    .dataframe tbody tr th {\n",
       "        vertical-align: top;\n",
       "    }\n",
       "\n",
       "    .dataframe thead th {\n",
       "        text-align: right;\n",
       "    }\n",
       "</style>\n",
       "<table border=\"1\" class=\"dataframe\">\n",
       "  <thead>\n",
       "    <tr style=\"text-align: right;\">\n",
       "      <th></th>\n",
       "      <th>Unnamed: 0</th>\n",
       "      <th>z</th>\n",
       "      <th>press</th>\n",
       "      <th>temp</th>\n",
       "      <th>rmix</th>\n",
       "      <th>den</th>\n",
       "      <th>o3den</th>\n",
       "    </tr>\n",
       "  </thead>\n",
       "  <tbody>\n",
       "    <tr>\n",
       "      <th>0</th>\n",
       "      <td>0</td>\n",
       "      <td>0.0</td>\n",
       "      <td>101300.0</td>\n",
       "      <td>294.0</td>\n",
       "      <td>0.01400</td>\n",
       "      <td>1.1910</td>\n",
       "      <td>6.000000e-08</td>\n",
       "    </tr>\n",
       "    <tr>\n",
       "      <th>1</th>\n",
       "      <td>1</td>\n",
       "      <td>1000.0</td>\n",
       "      <td>90200.0</td>\n",
       "      <td>290.0</td>\n",
       "      <td>0.00930</td>\n",
       "      <td>1.0800</td>\n",
       "      <td>6.000000e-08</td>\n",
       "    </tr>\n",
       "    <tr>\n",
       "      <th>2</th>\n",
       "      <td>2</td>\n",
       "      <td>2000.0</td>\n",
       "      <td>80200.0</td>\n",
       "      <td>285.0</td>\n",
       "      <td>0.00585</td>\n",
       "      <td>0.9757</td>\n",
       "      <td>6.000000e-08</td>\n",
       "    </tr>\n",
       "    <tr>\n",
       "      <th>3</th>\n",
       "      <td>3</td>\n",
       "      <td>3000.0</td>\n",
       "      <td>71000.0</td>\n",
       "      <td>279.0</td>\n",
       "      <td>0.00343</td>\n",
       "      <td>0.8846</td>\n",
       "      <td>6.200001e-08</td>\n",
       "    </tr>\n",
       "    <tr>\n",
       "      <th>4</th>\n",
       "      <td>4</td>\n",
       "      <td>4000.0</td>\n",
       "      <td>62800.0</td>\n",
       "      <td>273.0</td>\n",
       "      <td>0.00189</td>\n",
       "      <td>0.7998</td>\n",
       "      <td>6.400001e-08</td>\n",
       "    </tr>\n",
       "  </tbody>\n",
       "</table>\n",
       "</div>"
      ],
      "text/plain": [
       "   Unnamed: 0       z     press   temp     rmix     den         o3den\n",
       "0           0     0.0  101300.0  294.0  0.01400  1.1910  6.000000e-08\n",
       "1           1  1000.0   90200.0  290.0  0.00930  1.0800  6.000000e-08\n",
       "2           2  2000.0   80200.0  285.0  0.00585  0.9757  6.000000e-08\n",
       "3           3  3000.0   71000.0  279.0  0.00343  0.8846  6.200001e-08\n",
       "4           4  4000.0   62800.0  273.0  0.00189  0.7998  6.400001e-08"
      ]
     },
     "execution_count": 3,
     "metadata": {},
     "output_type": "execute_result"
    }
   ],
   "source": [
    "# print out column names\n",
    "sound_dict['midsummer'].head()"
   ]
  },
  {
   "cell_type": "markdown",
   "metadata": {},
   "source": [
    "# Assignment i - calculate pressure & density scale height\n",
    "\n",
    "Reference: [hydrostatic balance notes](https://clouds.eos.ubc.ca/~phil/courses/atsc500/docs/hydro.pdf)\n",
    "\n",
    "**Pressure scale height**\n",
    "\n",
    "---------------\n",
    "\n",
    "Apply *reference equ.2* into the definition of pressure scale height ($H_p$):\n",
    "\n",
    "$$\n",
    "H_p = - \\left(\\frac{d\\log{p}}{dz}\\right)^{-1} =  \\frac{R_dT_v}{g}\n",
    "$$\n",
    "\n",
    "The average of $H_p$ in the lower atmosphere:\n",
    "\n",
    "$$\n",
    "\\overline{H_p} = \\frac{1}{z_1 - z_0}\\int^{z_1}_{z_0}{H_p dz} = \\frac{R_d}{(z_1 - z_0)g}\\int^{z_1}_{z_0}{T_v dz}\n",
    "$$\n",
    "\n",
    "**Density scale height**\n",
    "\n",
    "---------------\n",
    "\n",
    "Density scale height ($H_{\\rho}$) is defined as:\n",
    "\n",
    "$$\n",
    "H_\\rho = -\\left(\\frac{d\\log{\\rho}}{dz}\\right)^{-1}\n",
    "$$\n",
    "\n",
    "\n",
    "Apply log and z-derivative to the ideal gas law: \n",
    "\n",
    "$$\n",
    "p = \\rho R_dT_v \\Rightarrow \\frac{d\\log{p}}{dz} = \\frac{d\\log{\\rho}}{dz} + \\frac{d\\log{T_v}}{dz}\n",
    "$$\n",
    "\n",
    "Which brings the reltion between $H_p$ and $H_\\rho$ \n",
    "\n",
    "$$\n",
    "\\frac{1}{H_\\rho} = \\frac{1}{H_p} + \\frac{1}{T_v}\\frac{dT_v}{dz} = \\frac{1}{H_p} + \\frac{1}{T_v}\\Gamma\n",
    "$$"
   ]
  },
  {
   "cell_type": "code",
   "execution_count": 4,
   "metadata": {},
   "outputs": [],
   "source": [
    "def Tv_midpoint(T, RMIX):\n",
    "    Tv = (1+0.608*RMIX)*T\n",
    "    return (Tv[1:] + Tv[:-1])/2.\n",
    "\n",
    "def Hp_ave(T, Z, RMIX, thres=1e4):\n",
    "    g = 9.8\n",
    "    Rd = 286.888\n",
    "    flag = (Z <= thres)\n",
    "    Tv = Tv_midpoint(T[flag], RMIX[flag])\n",
    "    return Rd*(Tv*np.diff(Z[flag])).sum()/(Z[flag][-1]-Z[flag][0])/g\n",
    "\n",
    "def Hr_ave(T, Z, RMIX, thres=1e4):\n",
    "    g = 9.8\n",
    "    Rd = 286.888\n",
    "    flag = (Z <= thres)\n",
    "    Tv = Tv_midpoint(T[flag], RMIX[flag])\n",
    "    dz = np.diff(Z[flag])\n",
    "    gamma = 1*np.diff((1+0.608*RMIX[flag])*T[flag])/dz\n",
    "    Hr = 1/(1/(Rd*Tv/g) + (1/Tv)*gamma)\n",
    "    return (Hr*dz).sum()/(Z[flag][-1]-Z[flag][0])"
   ]
  },
  {
   "cell_type": "code",
   "execution_count": 5,
   "metadata": {},
   "outputs": [
    {
     "name": "stdout",
     "output_type": "stream",
     "text": [
      "midsummer: Hp = 7815.2694m, Hr = 9525.8942m\n",
      "midwinter: Hp = 7280.9117m, Hr = 8617.1956m\n",
      "subwinter: Hp = 7006.3113m, Hr = 7999.8264m\n",
      "tropics: Hp = 7915.6647m, Hr = 9833.4523m\n",
      "subsummer: Hp = 7566.0687m, Hr = 9289.5719m\n"
     ]
    }
   ],
   "source": [
    "for area in sound_dict.keys():\n",
    "    df = sound_dict[area]\n",
    "    T = df['temp'].as_matrix()\n",
    "    Z = df['z'].as_matrix()\n",
    "    RMIX = df['rmix'].as_matrix()\n",
    "    print(area+': Hp = {:.4f}m, Hr = {:.4f}m'.format(Hp_ave(T, Z, RMIX, thres=1e4), Hr_ave(T, Z, RMIX, thres=1e4)))"
   ]
  },
  {
   "cell_type": "markdown",
   "metadata": {},
   "source": [
    "# Assignment ii - calculate total precipitable water\n",
    "\n",
    "total precipitable water ($W$) is defined as:\n",
    "\n",
    "$$\n",
    "W = \\int_0^{z_{top}} \\rho_v dz\n",
    "$$\n",
    "\n",
    "Apply idea gas law on water vapor to the definition of absolute humidity ($\\rho_v$):\n",
    "\n",
    "$$\n",
    "\\rho_v = \\frac{m(\\mathrm{H_2O})}{V(\\mathrm{air})} = \\frac{eM(\\mathrm{H_2O})}{RT}\\frac{V(\\mathrm{H_2O})}{V(\\mathrm{air})}\n",
    "$$\n",
    "\n",
    "Where $R$ is the ideal gas law constant with pressure unit as Pa, $\\rho_v$ has the unit of $g/m^3$ \n",
    "\n",
    "Since water vapor is equally distributed in the air:\n",
    "\n",
    "$$\n",
    "V(\\mathrm{H_2O}) = V(\\mathrm{air})\n",
    "$$\n",
    "\n",
    "Then\n",
    "\n",
    "$$\n",
    "\\rho_v = \\frac{eM(\\mathrm{H_2O})}{RT} = \\frac{18}{8.314}\\frac{e}{T} = 2.1650\\frac{e}{T}\n",
    "$$\n",
    "\n",
    "According to *Dalton's law of partial pressure*:\n",
    "\n",
    "$$\n",
    "e = \\frac{\\gamma}{\\gamma+\\epsilon}p \\quad \\epsilon=\\frac{M(\\mathrm{H_2O})}{M(\\mathrm{air})}=0.622\n",
    "$$"
   ]
  },
  {
   "cell_type": "code",
   "execution_count": 10,
   "metadata": {},
   "outputs": [],
   "source": [
    "def rho_midpoint(RMIX, P, T):\n",
    "    P_midpoint = (P[1:] + P[:-1])/2.\n",
    "    T_midpoint = (T[1:] + T[:-1])/2.\n",
    "    RMIX_midpoint = (RMIX[1:] + RMIX[:-1])/2.\n",
    "    e = RMIX_midpoint/(RMIX_midpoint+0.622)*P_midpoint\n",
    "    return 2.1650*e/T_midpoint\n",
    "\n",
    "def TPW(RMIX, P, T, Z, thres=1e4):\n",
    "    flag = (Z <= thres)\n",
    "    rho = rho_midpoint(RMIX[flag], P[flag], T[flag])\n",
    "    dz = np.diff(Z[flag])\n",
    "    return (rho*dz).sum()/(Z[flag][-1]-Z[flag][0])\n",
    "    "
   ]
  },
  {
   "cell_type": "code",
   "execution_count": 11,
   "metadata": {},
   "outputs": [
    {
     "name": "stdout",
     "output_type": "stream",
     "text": [
      "midsummer: total precipitable water = 2.9537241007742856 g/m2\n",
      "midwinter: total precipitable water = 0.9046481753742888 g/m2\n",
      "subwinter: total precipitable water = 0.4658669610888579 g/m2\n",
      "tropics: total precipitable water = 4.131246232351342 g/m2\n",
      "subsummer: total precipitable water = 2.107768842955067 g/m2\n"
     ]
    }
   ],
   "source": [
    "for area in sound_dict.keys():\n",
    "    df = sound_dict[area]\n",
    "    T = df['temp'].as_matrix()\n",
    "    Z = df['z'].as_matrix()\n",
    "    P = df['press'].as_matrix()\n",
    "    RMIX = df['rmix'].as_matrix()\n",
    "    print(area+': total precipitable water = {} g/m2'.format(TPW(RMIX, P, T, Z)))"
   ]
  },
  {
   "cell_type": "code",
   "execution_count": null,
   "metadata": {},
   "outputs": [],
   "source": []
  }
 ],
 "metadata": {
  "kernelspec": {
   "display_name": "Python 3",
   "language": "python",
   "name": "python3"
  },
  "language_info": {
   "codemirror_mode": {
    "name": "ipython",
    "version": 3
   },
   "file_extension": ".py",
   "mimetype": "text/x-python",
   "name": "python",
   "nbconvert_exporter": "python",
   "pygments_lexer": "ipython3",
   "version": "3.6.3"
  }
 },
 "nbformat": 4,
 "nbformat_minor": 2
}
