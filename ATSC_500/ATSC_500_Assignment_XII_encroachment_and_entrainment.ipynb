{
 "cells": [
  {
   "cell_type": "markdown",
   "metadata": {},
   "source": [
    "# ATSC 500 Assignment XII (entrainment beta)"
   ]
  },
  {
   "cell_type": "code",
   "execution_count": 1,
   "metadata": {},
   "outputs": [],
   "source": [
    "import numpy as np\n",
    "import netCDF4 as nc\n",
    "from glob import glob\n",
    "import matplotlib.pyplot as plt\n",
    "#import matplotlib.gridspec as gridspec\n",
    "% matplotlib inline"
   ]
  },
  {
   "cell_type": "code",
   "execution_count": 2,
   "metadata": {},
   "outputs": [],
   "source": [
    "filename = glob('_data/ATSC-500/case_60_10.nc')[0]"
   ]
  },
  {
   "cell_type": "code",
   "execution_count": 3,
   "metadata": {},
   "outputs": [],
   "source": [
    "nc_obj = nc.Dataset(filename)\n",
    "# Get vertical coord\n",
    "z = nc_obj.variables['z'][...]\n",
    "time = nc_obj.variables['time'][...]\n",
    "# Get group names\n",
    "nc_gps = list(nc_obj.groups.keys())\n",
    "# The key and dim of vars are the same in all the gps\n",
    "shape_grid = nc_obj[nc_gps[0]].variables['TABS'].shape\n",
    "# Add the number of gps into the shape\n",
    "shape_all = (len(nc_gps),) + shape_grid\n",
    "W = np.zeros(shape_all)*np.nan\n",
    "TABS = np.zeros(shape_all)*np.nan\n",
    "# loop over all the groups\n",
    "for i in range(len(nc_gps)):\n",
    "    W[i, ...] = nc_obj[nc_gps[i]].variables['W'][...]\n",
    "    TABS[i, ...] = nc_obj[nc_gps[i]].variables['TABS'][...]\n",
    "# ...\n",
    "nc_obj.close()"
   ]
  },
  {
   "cell_type": "code",
   "execution_count": 4,
   "metadata": {},
   "outputs": [],
   "source": [
    "TABS_ave = TABS[0, ...].mean((2, 3))"
   ]
  },
  {
   "cell_type": "code",
   "execution_count": 5,
   "metadata": {},
   "outputs": [],
   "source": [
    "L = len(time)\n",
    "ztop = np.zeros(L)*np.nan\n",
    "\n",
    "for i in range(L):\n",
    "    ztop[i] = z[np.argmin(TABS_ave[i, :110])]\n",
    "# special treatment for t=0 \n",
    "ztop[0] = z[np.argmin(TABS_ave[i, :5])]"
   ]
  },
  {
   "cell_type": "markdown",
   "metadata": {},
   "source": [
    "$$\n",
    "\\frac{1}{2}\\frac{\\partial h^2}{\\partial t} = \\left(1+2\\beta\\right)\\frac{\\overline{\\left(\\theta'w'\\right)}_0}{\\gamma_{\\theta}}\n",
    "$$"
   ]
  },
  {
   "cell_type": "code",
   "execution_count": 17,
   "metadata": {},
   "outputs": [],
   "source": [
    "beta, _, _, _ = np.linalg.lstsq(time.reshape(-1, 1), (ztop*1e-2)**2)"
   ]
  },
  {
   "cell_type": "code",
   "execution_count": 18,
   "metadata": {},
   "outputs": [
    {
     "data": {
      "text/plain": [
       "array([ 0.21228906])"
      ]
     },
     "execution_count": 18,
     "metadata": {},
     "output_type": "execute_result"
    }
   ],
   "source": [
    "beta"
   ]
  },
  {
   "cell_type": "markdown",
   "metadata": {},
   "source": [
    "conclusion: beta is about 0.2"
   ]
  },
  {
   "cell_type": "code",
   "execution_count": null,
   "metadata": {},
   "outputs": [],
   "source": []
  }
 ],
 "metadata": {
  "kernelspec": {
   "display_name": "Python 3",
   "language": "python",
   "name": "python3"
  },
  "language_info": {
   "codemirror_mode": {
    "name": "ipython",
    "version": 3
   },
   "file_extension": ".py",
   "mimetype": "text/x-python",
   "name": "python",
   "nbconvert_exporter": "python",
   "pygments_lexer": "ipython3",
   "version": "3.6.3"
  }
 },
 "nbformat": 4,
 "nbformat_minor": 2
}
