{
 "cells": [
  {
   "cell_type": "markdown",
   "metadata": {},
   "source": [
    "# ATSC-500 Assignment V (Turbulent flux budget)"
   ]
  },
  {
   "cell_type": "code",
   "execution_count": 1,
   "metadata": {},
   "outputs": [],
   "source": [
    "import textwrap\n",
    "import numpy as np\n",
    "import netCDF4 as nc\n",
    "from glob import glob\n",
    "from os.path import basename\n",
    "import matplotlib.pyplot as plt\n",
    "import matplotlib.gridspec as gridspec\n",
    "% matplotlib inline"
   ]
  },
  {
   "cell_type": "code",
   "execution_count": 2,
   "metadata": {},
   "outputs": [
    {
     "name": "stdout",
     "output_type": "stream",
     "text": [
      "_data/ATSC-500/mar12014_1_15600.nc\n",
      "_data/ATSC-500/mar12014_2_15600.nc\n",
      "_data/ATSC-500/mar12014_3_15600.nc\n",
      "_data/ATSC-500/mar12014_4_15600.nc\n",
      "_data/ATSC-500/mar12014_5_15600.nc\n"
     ]
    }
   ],
   "source": [
    "names = sorted(glob('_data/ATSC-500/mar12014*.nc'))\n",
    "names = names[1:6] # <---------- !! cut flie numbers\n",
    "[print(name) for name in names];"
   ]
  },
  {
   "cell_type": "code",
   "execution_count": 3,
   "metadata": {},
   "outputs": [],
   "source": [
    "L = len(names)\n",
    "z_cut =  100 # <---------- !! cut vertical levels\n",
    "shape_grid = (L,) + (z_cut, 128, 192)\n",
    "\n",
    "P = np.ones(shape_grid)\n",
    "time = np.zeros(L)*np.nan\n",
    "U = np.zeros(shape_grid)*np.nan\n",
    "V = np.zeros(shape_grid)*np.nan\n",
    "W = np.zeros(shape_grid)*np.nan\n",
    "T = np.zeros(shape_grid)*np.nan\n",
    "PP = np.zeros(shape_grid)*np.nan\n",
    "RMIX = np.zeros(shape_grid)*np.nan\n",
    "\n",
    "for i, name in enumerate(names):\n",
    "    nc_obj = nc.Dataset(name)\n",
    "    for j in range(z_cut):\n",
    "        P[i, j, ...] = P[i, j, ...]*nc_obj.variables['p'][j, ...]*1e-2 # hPa -> Pa\n",
    "    time[i] = nc_obj.variables['time'][...]\n",
    "    U[i, ...] = nc_obj.variables['U'][0, :z_cut, ...]\n",
    "    V[i, ...] = nc_obj.variables['V'][0, :z_cut, ...]\n",
    "    W[i, ...] = nc_obj.variables['W'][0, :z_cut, ...]\n",
    "    T[i, ...] = nc_obj.variables['TABS'][0, :z_cut, ...]\n",
    "    PP[i, ...] = nc_obj.variables['PP'][0, :z_cut, ...]\n",
    "    RMIX[i, ...] = nc_obj.variables['QV'][0, :z_cut, ...]*1e-3 # g/kg -> kg/kg"
   ]
  },
  {
   "cell_type": "markdown",
   "metadata": {},
   "source": [
    "## Assignment - produce a vapor visualization for a Chapter 4 variance\n",
    "\n",
    "I choose to produce the budget terms for turbulent v-component momentum flux. Recalling Stull eq.(4.4.1.a):\n",
    "\n",
    "$$\n",
    "\\frac{d\\overline{u^{'}_i u^{'}_k}}{dt} = -\\left[(\\overline{u_i^{'}u_j^{'}})\\frac{\\partial\\overline{u_k}}{\\partial x_j}+(\\overline{u_k^{'}u_j^{'}})\\frac{\\partial\\overline{u_i}}{\\partial x_j}\\right] - \\frac{\\partial\\left(u_i^{'}u_j^{'}u_k^{'}\\right)}{\\partial x_j}+\\frac{g}{\\overline{\\theta_v}}\\left(\\delta_{k3}\\overline{u_i^{'}\\theta_v^{'}}+\\delta_{i3}\\overline{u_k^{'}\\theta_v^{'}}\\right)+f_c\\left(\\epsilon_{kj3}\\overline{u_i^{'}u_j^{'}}+\\epsilon_{ij3}\\overline{u_k^{'}u_j^{'}}\\right)-\\frac{1}{\\overline{\\rho}}\\left[\\frac{\\partial\\overline{p^{'}u_k^{'}}}{\\partial x_i}+\\frac{\\partial\\overline{p^{'}u_i^{'}}}{\\partial x_k} - \\overline{p^{'}\\left(\\frac{\\partial u_i^{'}}{\\partial x_k}+\\frac{\\partial u_k^{'}}{\\partial x_i}\\right)}\\right] + \\mu\\frac{\\partial^2 u_i^{'}u_k^{'}}{\\partial x_j^2} - 2\\mu\\frac{\\overline{\\partial u_i^{'}\\partial x_k^{'}}}{\\partial x_j^2}\n",
    "$$\n",
    "\n",
    "Term III, IV, V, VI, VIII (see Stull page 136) will be calculated in one of the experiment."
   ]
  },
  {
   "cell_type": "code",
   "execution_count": 4,
   "metadata": {},
   "outputs": [],
   "source": [
    "# Choosing mar12014_10_15600.nc as an example\n",
    "# coords\n",
    "x = nc_obj.variables['x'][...]\n",
    "y = nc_obj.variables['y'][...]\n",
    "z = nc_obj.variables['z'][:z_cut]\n",
    "Y, Z, X = np.meshgrid(y, z, x)\n",
    "\n",
    "_, _, dx = np.gradient(X, edge_order=2)\n",
    "_, dy, _ = np.gradient(Y, edge_order=2)\n",
    "dz, _, _ = np.gradient(Z, edge_order=2)"
   ]
  },
  {
   "cell_type": "code",
   "execution_count": 5,
   "metadata": {},
   "outputs": [],
   "source": [
    "U_mean = U.mean(axis=0)\n",
    "V_mean = V.mean(axis=0)\n",
    "W_mean = W.mean(axis=0)\n",
    "\n",
    "dUz, dUy, dUx = np.gradient(U_mean, edge_order=2)\n",
    "dVz, dVy, dVx = np.gradient(V_mean, edge_order=2)\n",
    "dWz, dWy, dWx = np.gradient(W_mean, edge_order=2)"
   ]
  },
  {
   "cell_type": "markdown",
   "metadata": {},
   "source": [
    "### Term III\n",
    "\n",
    "$$\n",
    "(\\overline{v^{'}u^{'}})\\frac{\\partial \\overline{W}}{\\partial x} + (\\overline{v^{'}v^{'}})\\frac{\\partial \\overline{W}}{\\partial y} +(\\overline{v^{'}w^{'}})\\frac{\\partial \\overline{W}}{\\partial z} +(\\overline{w^{'}u^{'}})\\frac{\\partial \\overline{V}}{\\partial x} +(\\overline{w^{'}v^{'}})\\frac{\\partial \\overline{V}}{\\partial y} +(\\overline{w^{'}w^{'}})\\frac{\\partial \\overline{V}}{\\partial z}\n",
    "$$"
   ]
  },
  {
   "cell_type": "code",
   "execution_count": 6,
   "metadata": {},
   "outputs": [],
   "source": [
    "VU_mean = np.mean((V - V_mean)*(U - U_mean), 0)\n",
    "VV_mean = np.mean((V - V_mean)*(V - V_mean), 0)\n",
    "VW_mean = np.mean((V - W_mean)*(V - W_mean), 0)\n",
    "\n",
    "WU_mean = np.mean((W - W_mean)*(U - U_mean), 0)\n",
    "WV_mean = VW_mean\n",
    "WW_mean = np.mean((W - W_mean)*(W - W_mean), 0)"
   ]
  },
  {
   "cell_type": "code",
   "execution_count": 7,
   "metadata": {},
   "outputs": [],
   "source": [
    "term3 = VU_mean*(dWx/dx) + VV_mean*(dWy/dy) + VW_mean*(dWz/dz) + \\\n",
    "        WU_mean*(dVx/dx) + WV_mean*(dVy/dy) + WW_mean*(dVz/dz)\n",
    "    \n",
    "#term3 = -1*term3"
   ]
  },
  {
   "cell_type": "code",
   "execution_count": 8,
   "metadata": {},
   "outputs": [],
   "source": [
    "VUW = np.mean((V - V_mean)*(U - U_mean)*(W - W_mean), 0)\n",
    "VVW = np.mean((V - V_mean)*(V - V_mean)*(W - W_mean), 0)\n",
    "VWW = np.mean((U - U_mean)*(V - V_mean)*(W - W_mean), 0)\n",
    "\n",
    "_, _, d_VUWx = np.gradient(VUW, edge_order=2)\n",
    "_, d_VVWy, _ = np.gradient(VVW, edge_order=2)\n",
    "d_VWWz, _, _ = np.gradient(VWW, edge_order=2)"
   ]
  },
  {
   "cell_type": "markdown",
   "metadata": {},
   "source": [
    "### Term IV\n",
    "\n",
    "$$\n",
    "\\frac{\\partial \\overline{u^{'}v^{'}w^{'}}}{\\partial x} + \\frac{\\partial \\overline{v^{'}v^{'}w^{'}}}{\\partial y} + \\frac{\\partial \\overline{v^{'}w^{'}w^{'}}}{\\partial z}\n",
    "$$"
   ]
  },
  {
   "cell_type": "code",
   "execution_count": 9,
   "metadata": {},
   "outputs": [],
   "source": [
    "term4 = d_VUWx/dx + d_VVWy/dy + d_VWWz/dz\n",
    "#term4 = -1*term4"
   ]
  },
  {
   "cell_type": "code",
   "execution_count": 10,
   "metadata": {},
   "outputs": [],
   "source": [
    "P_mean = P.mean(axis=0)\n",
    "T_mean = T.mean(axis=0)\n",
    "RMIX_mean = RMIX.mean(axis=0)\n",
    "\n",
    "def theta_v(T, P, RMIX):\n",
    "    theta = T*(1000/P)**(0.286)\n",
    "    return theta*(1+0.608*RMIX)\n",
    "\n",
    "theta = theta_v(T, P_mean+PP[0, ...], RMIX)\n",
    "theta_mean = theta_v(T_mean, P_mean, RMIX_mean)\n",
    "V_theta_mean = np.mean((V-V_mean)*(theta-theta_mean), 0)"
   ]
  },
  {
   "cell_type": "markdown",
   "metadata": {},
   "source": [
    "### Term V\n",
    "\n",
    "$$\n",
    "\\frac{g}{\\overline{\\theta_v}}\\left(\\overline{v^{'}\\theta_v^{'}}\\right)\n",
    "$$"
   ]
  },
  {
   "cell_type": "code",
   "execution_count": 11,
   "metadata": {},
   "outputs": [],
   "source": [
    "g = 9.8\n",
    "term5 = (g/theta_mean)*V_theta_mean"
   ]
  },
  {
   "cell_type": "markdown",
   "metadata": {},
   "source": [
    "### Term VI\n",
    "\n",
    "$$\n",
    "f_c\\left(\\overline{u^{'}w^{'}}\\right)\n",
    "$$"
   ]
  },
  {
   "cell_type": "code",
   "execution_count": 12,
   "metadata": {},
   "outputs": [],
   "source": [
    "fc = 1e-4 # f(\\phi) = 2\\omiga sin\\phi\n",
    "term6 = fc*WU_mean"
   ]
  },
  {
   "cell_type": "markdown",
   "metadata": {},
   "source": [
    "### Term VIII\n",
    "\n",
    "$$\n",
    "\\overline{\\frac{p^{'}}{\\overline{\\rho}}\\left(\\frac{\\partial v^{'}}{\\partial z}+\\frac{\\partial w^{'}}{\\partial y}\\right)}\n",
    "$$\n"
   ]
  },
  {
   "cell_type": "code",
   "execution_count": 13,
   "metadata": {},
   "outputs": [],
   "source": [
    "rho_mean = 1.225 # for approx\n",
    "\n",
    "V_anom = V - V_mean\n",
    "W_anom = W - W_mean\n",
    "\n",
    "what, d_V_anom_z, _, _ = np.gradient(V_anom, edge_order=2)\n",
    "_, _, d_W_anom_y, _ = np.gradient(W_anom, edge_order=2)\n",
    "\n",
    "term8 = np.mean(PP/(rho_mean)*(d_V_anom_z/dz+d_W_anom_y/dy), 0)"
   ]
  },
  {
   "cell_type": "code",
   "execution_count": 14,
   "metadata": {},
   "outputs": [
    {
     "data": {
      "image/png": "[encoded data removed]",
      "text/plain": [
       "<matplotlib.figure.Figure at 0x7f7c080954e0>"
      ]
     },
     "metadata": {},
     "output_type": "display_data"
    }
   ],
   "source": [
    "fig = plt.figure(figsize=(6, 8))\n",
    "ax = fig.gca()\n",
    "ax.grid(linestyle=':')\n",
    "ax.set_xlim([-1.5, 1.5])\n",
    "ax.spines[\"top\"].set_visible(False)\n",
    "ax.spines[\"right\"].set_visible(False)\n",
    "ax.xaxis.set_tick_params(labelsize=14)\n",
    "ax.yaxis.set_tick_params(labelsize=14)\n",
    "[j.set_linewidth(2.5) for j in ax.spines.values()]\n",
    "ax.tick_params(axis=\"both\", which=\"both\", bottom=\"off\", top=\"off\", \\\n",
    "       labelbottom=\"on\", left=\"off\", right=\"off\", labelleft=\"on\")\n",
    "ax.set_ylabel('Height [m]', fontsize=14)\n",
    "ax.set_xlabel('1E-4 [$\\mathrm{m^2\\cdot s^{-3}}$]', fontsize=14)\n",
    "ax.set_title(\"Domain averaged terms for $\\mathrm{\\overline{v^{'}w^{'}}}$ on \"+(str(time[0])[:7])+'s', fontsize=14)\n",
    "ax.plot(np.mean(term3, (1, 2))*1e4, z, lw=2.5, label='Term III')\n",
    "ax.plot(np.mean(term4, (1, 2))*1e4, z, lw=2.5, label='Term IV')\n",
    "ax.plot(np.mean(term5, (1, 2))*1e4, z, lw=2.5, label='Term V')\n",
    "ax.plot(np.mean(term6, (1, 2))*1e4, z, lw=2.5, label='Term VI')\n",
    "ax.plot(np.mean(term8, (1, 2))*1e4, z, lw=2.5, label='Term VIII')\n",
    "\n",
    "LG = ax.legend(bbox_to_anchor=(1.035, 1), prop={'size':14}); LG.draw_frame(False)"
   ]
  },
  {
   "cell_type": "markdown",
   "metadata": {},
   "source": [
    "## Calculate v'w'"
   ]
  },
  {
   "cell_type": "code",
   "execution_count": 15,
   "metadata": {},
   "outputs": [],
   "source": [
    "VW_anom = (V - W_mean)*(V - W_mean)\n",
    "VW_ave = np.mean(VW_anom,(2, 3))"
   ]
  },
  {
   "cell_type": "code",
   "execution_count": 24,
   "metadata": {},
   "outputs": [],
   "source": [
    "# fig, AX = plt.subplots(1, 5, figsize=(10, 6))\n",
    "# AX = AX.flat\n",
    "# for i, ax in enumerate(AX):\n",
    "#     ax.grid(linestyle=':')\n",
    "#     ax.set_xlim([-0.1, 0.4])\n",
    "#     ax.spines[\"top\"].set_visible(False)\n",
    "#     ax.spines[\"left\"].set_visible(False)\n",
    "#     ax.spines[\"right\"].set_visible(False)\n",
    "#     ax.xaxis.set_tick_params(labelsize=14)\n",
    "#     ax.yaxis.set_tick_params(labelsize=14)\n",
    "#     [j.set_linewidth(2.5) for j in ax.spines.values()]\n",
    "#     ax.tick_params(axis=\"both\", which=\"both\", bottom=\"off\", top=\"off\", \\\n",
    "#            labelbottom=\"on\", left=\"off\", right=\"off\", labelleft=\"off\")\n",
    "#     ax.set_title('Ensemble {}'.format(i+1), fontsize=14)\n",
    "\n",
    "# AX[0].set_ylabel('Height [m]', fontsize=14)\n",
    "# AX[0].spines[\"left\"].set_visible(True)\n",
    "# AX[0].tick_params(labelleft=\"on\")\n",
    "# for i in range(L):\n",
    "#     AX[i].plot(VW_ave[i, :], z, lw=3)"
   ]
  },
  {
   "cell_type": "markdown",
   "metadata": {},
   "source": [
    "## Convert np.arry into vdf"
   ]
  },
  {
   "cell_type": "code",
   "execution_count": 21,
   "metadata": {
    "scrolled": true
   },
   "outputs": [
    {
     "name": "stdout",
     "output_type": "stream",
     "text": [
      "<class 'numpy.ndarray'>\n",
      "<class 'numpy.ndarray'>\n",
      "<class 'numpy.ndarray'>\n"
     ]
    }
   ],
   "source": [
    "filenames = ['_data/ATSC-500/xvals.txt', '_data/ATSC-500/yvals.txt', '_data/ATSC-500/zvals.txt']\n",
    "arrays = [x, y, z]\n",
    "for name, vals in zip(filenames, arrays):\n",
    "    print (type(vals))\n",
    "    with open(name, 'w') as outfile:\n",
    "        #\n",
    "        # write all but the last without a newline\n",
    "        #\n",
    "        [outfile.write('{:6.3f} '.format(item)) for item in vals[:-1]]\n",
    "        #\n",
    "        # write the last value with a newline\n",
    "        #\n",
    "        outfile.write('{:6.3f}\\n'.format(vals[-1]))"
   ]
  },
  {
   "cell_type": "code",
   "execution_count": 22,
   "metadata": {},
   "outputs": [
    {
     "name": "stdout",
     "output_type": "stream",
     "text": [
      "writing an array of vflux of shape x,y,z= 192x128x100\n"
     ]
    }
   ],
   "source": [
    "varname = 'vflux'\n",
    "out_name = '_data/ATSC-500/{}.bin'.format(varname)\n",
    "rev_shape = VW_anom[0, ...].shape[::-1]\n",
    "string_shape=\"{}x{}x{}\".format(*rev_shape)\n",
    "print('writing an array of {} of shape x,y,z= {}'.format(varname, string_shape))\n",
    "fp = np.memmap(out_name, dtype=np.float32,\n",
    "               mode='w+', shape=VW_anom[0, ...].shape)\n",
    "fp[...] = VW_anom[0, ...]*1e2"
   ]
  },
  {
   "cell_type": "code",
   "execution_count": 23,
   "metadata": {},
   "outputs": [],
   "source": [
    "vars=dict(dim=string_shape,var='vflux')\n",
    "    \n",
    "command=r\"\"\"\n",
    "    . /home/yingkai/vapor/vapor-2.6.0/bin/vapor-setup.sh\n",
    "    \n",
    "    vdfcreate  -xcoords xvals.txt -ycoords yvals.txt -zcoords zvals.txt \\\n",
    "       -gridtype stretched -dimension {dim:s} -vars3d {var:s} -numts 1 {var:s}.vdf\n",
    "\n",
    "    raw2vdf -varname {var:s} -ts 0 {var:s}.vdf {var:s}.bin\n",
    "\"\"\"\n",
    "out=textwrap.dedent(command.format_map(vars))\n",
    "with open('_data/ATSC-500/make_vapor.sh','w') as f:\n",
    "    f.write('#!/bin/bash -v\\n')\n",
    "    f.write(out)"
   ]
  },
  {
   "cell_type": "code",
   "execution_count": null,
   "metadata": {},
   "outputs": [],
   "source": []
  }
 ],
 "metadata": {
  "kernelspec": {
   "display_name": "Python 3",
   "language": "python",
   "name": "python3"
  },
  "language_info": {
   "codemirror_mode": {
    "name": "ipython",
    "version": 3
   },
   "file_extension": ".py",
   "mimetype": "text/x-python",
   "name": "python",
   "nbconvert_exporter": "python",
   "pygments_lexer": "ipython3",
   "version": "3.6.3"
  }
 },
 "nbformat": 4,
 "nbformat_minor": 2
}
