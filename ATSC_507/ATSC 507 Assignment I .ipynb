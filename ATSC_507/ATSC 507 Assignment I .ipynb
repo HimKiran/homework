{
 "metadata": {
  "name": "",
  "signature": "sha256:d4028fa9bd69cdb710ddf73c8ab17ed5690e18532e63f148504a5122c8ad51d4"
 },
 "nbformat": 3,
 "nbformat_minor": 0,
 "worksheets": [
  {
   "cells": [
    {
     "cell_type": "heading",
     "level": 1,
     "metadata": {},
     "source": [
      "ATSC 507 Assignment I - Due Feb 3"
     ]
    },
    {
     "cell_type": "code",
     "collapsed": false,
     "input": [
      "__author__ = 'Yingkai (Kyle) Sha'\n",
      "__email__  = 'yingkai@eos.ubc.ca' "
     ],
     "language": "python",
     "metadata": {},
     "outputs": [],
     "prompt_number": 1
    },
    {
     "cell_type": "code",
     "collapsed": false,
     "input": [
      "import csv\n",
      "import pandas\n",
      "import numpy as np\n",
      "from itertools import izip\n",
      "import matplotlib.pyplot as plt\n",
      "from scipy.interpolate import interp1d\n",
      "% matplotlib inline"
     ],
     "language": "python",
     "metadata": {},
     "outputs": [],
     "prompt_number": 2
    },
    {
     "cell_type": "markdown",
     "metadata": {},
     "source": [
      "# Content\n",
      "\n",
      "1. [**Set Given Conditions**](#Set-Given-Conditions)\n",
      "1. [**Exercise I**](#Exercise-I)\n",
      "1. [**Exercise II**](#Exercise-II)\n",
      "1. [**Exercise III**](#Exercise-III)"
     ]
    },
    {
     "cell_type": "heading",
     "level": 1,
     "metadata": {},
     "source": [
      "Set Given Conditions"
     ]
    },
    {
     "cell_type": "markdown",
     "metadata": {},
     "source": [
      "Create a 2-D domain."
     ]
    },
    {
     "cell_type": "code",
     "collapsed": false,
     "input": [
      "x = np.arange(0, 1000+20, 20)\n",
      "z = np.arange(0, 30+1, 1)\n",
      "x_grid, z_grid = np.meshgrid(x, z)"
     ],
     "language": "python",
     "metadata": {},
     "outputs": [],
     "prompt_number": 3
    },
    {
     "cell_type": "markdown",
     "metadata": {},
     "source": [
      "Define isothermal lines."
     ]
    },
    {
     "cell_type": "code",
     "collapsed": false,
     "input": [
      "T = np.empty(z_grid.shape)\n",
      "T[z_grid<=12] = (40 - 0.08*x_grid[z_grid<=12])  -  6.5*z_grid[z_grid<=12]\n",
      "T[z_grid>12] = (40 - 0.08*x_grid[z_grid>12])  -  6.5*12"
     ],
     "language": "python",
     "metadata": {},
     "outputs": [],
     "prompt_number": 4
    },
    {
     "cell_type": "markdown",
     "metadata": {},
     "source": [
      "Define Sea-level (z = 0) pressure (as kPa)."
     ]
    },
    {
     "cell_type": "code",
     "collapsed": false,
     "input": [
      "SLP = 95 + 0.01*x"
     ],
     "language": "python",
     "metadata": {},
     "outputs": [],
     "prompt_number": 5
    },
    {
     "cell_type": "markdown",
     "metadata": {},
     "source": [
      "Calculate pressure field."
     ]
    },
    {
     "cell_type": "code",
     "collapsed": false,
     "input": [
      "P = np.empty(z_grid.shape)\n",
      "P[0, :] = SLP\n",
      "a = 0.0293\n",
      "for i in range(1, len(z)):\n",
      "    P[i, :] = P[i-1, :] * np.exp((z_grid[i-1, :]-z_grid[i, :])/(a*(T[i, :]+273.15)))"
     ],
     "language": "python",
     "metadata": {},
     "outputs": [],
     "prompt_number": 6
    },
    {
     "cell_type": "markdown",
     "metadata": {},
     "source": [
      "Create terrain:"
     ]
    },
    {
     "cell_type": "code",
     "collapsed": false,
     "input": [
      "Zground = np.zeros(x.shape)\n",
      "Zground[(x>250) & (x<750)] = 1 + np.cos(2*(3.14159)*(x[(x>250) & (x<750)]-500)/500)"
     ],
     "language": "python",
     "metadata": {},
     "outputs": [],
     "prompt_number": 7
    },
    {
     "cell_type": "heading",
     "level": 1,
     "metadata": {},
     "source": [
      "Exercise I"
     ]
    },
    {
     "cell_type": "markdown",
     "metadata": {},
     "source": [
      "Draw isobar with terrain."
     ]
    },
    {
     "cell_type": "code",
     "collapsed": false,
     "input": [
      "clevs = [100, 90, 80, 70, 60, 50, 40, 30, 20, 10, 5, 2]\n",
      "fig=plt.figure(figsize=(14, 7))\n",
      "ax=plt.gca()\n",
      "ax.set_xlabel('x ( km )', fontsize=12, fontweight='bold')\n",
      "ax.set_ylabel('z ( km )', fontsize=12, fontweight='bold')\n",
      "ax.set_title('Isobar on x-z domain (unit: kPa)', fontsize=14, fontweight='bold')\n",
      "CS=ax.contour(x_grid, z_grid, P, clevs, colors=('k'), linewidths=2.5)\n",
      "ax.clabel(CS, clevs, inline=1, fmt='%1.0f', fontsize=14)\n",
      "baseline=np.zeros(Zground.shape)\n",
      "ax.fill_between(x, Zground, baseline, where=(Zground>=baseline), facecolor='gray', edgecolor='gray', zorder=4)"
     ],
     "language": "python",
     "metadata": {},
     "outputs": [
      {
       "metadata": {},
       "output_type": "pyout",
       "prompt_number": 14,
       "text": [
        "<matplotlib.collections.PolyCollection at 0x16104278>"
       ]
      },
      {
       "metadata": {},
       "output_type": "display_data",
       "png": "[encoded data removed]",
       "text": [
        "<matplotlib.figure.Figure at 0x15fa4f60>"
       ]
      }
     ],
     "prompt_number": 14
    },
    {
     "cell_type": "heading",
     "level": 1,
     "metadata": {},
     "source": [
      "Exercise II"
     ]
    },
    {
     "cell_type": "markdown",
     "metadata": {},
     "source": [
      "Find Pressure for 'real' land surface."
     ]
    },
    {
     "cell_type": "code",
     "collapsed": false,
     "input": [
      "Pground = np.empty(Zground.shape)\n",
      "for i in range(len(x)):\n",
      "    if Zground[i] != 0:\n",
      "        interp_obj = interp1d(z_grid[:, i], P[:, i])\n",
      "        Pground[i] = interp_obj(Zground[i])\n",
      "    else:\n",
      "        Pground[i] = P[0, i]"
     ],
     "language": "python",
     "metadata": {},
     "outputs": [],
     "prompt_number": 9
    },
    {
     "cell_type": "code",
     "collapsed": false,
     "input": [
      "with open('atsc507_a1_q2.csv', 'wb') as f:\n",
      "    writer = csv.writer(f)\n",
      "    writer.writerows(izip(x, Zground, Pground))"
     ],
     "language": "python",
     "metadata": {},
     "outputs": [],
     "prompt_number": 10
    },
    {
     "cell_type": "code",
     "collapsed": false,
     "input": [
      "pd_table = pandas.read_csv('atsc507_a1_q2.csv', names=['x, (km)', 'Zground, (km)', 'Psfc (kPa)'])\n",
      "pd_table"
     ],
     "language": "python",
     "metadata": {},
     "outputs": [
      {
       "html": [
        "<div style=\"max-height:1000px;max-width:1500px;overflow:auto;\">\n",
        "<table border=\"1\" class=\"dataframe\">\n",
        "  <thead>\n",
        "    <tr style=\"text-align: right;\">\n",
        "      <th></th>\n",
        "      <th>x, (km)</th>\n",
        "      <th>Zground, (km)</th>\n",
        "      <th>Psfc (kPa)</th>\n",
        "    </tr>\n",
        "  </thead>\n",
        "  <tbody>\n",
        "    <tr>\n",
        "      <th>0 </th>\n",
        "      <td>    0</td>\n",
        "      <td> 0.000000</td>\n",
        "      <td>  95.000000</td>\n",
        "    </tr>\n",
        "    <tr>\n",
        "      <th>1 </th>\n",
        "      <td>   20</td>\n",
        "      <td> 0.000000</td>\n",
        "      <td>  95.200000</td>\n",
        "    </tr>\n",
        "    <tr>\n",
        "      <th>2 </th>\n",
        "      <td>   40</td>\n",
        "      <td> 0.000000</td>\n",
        "      <td>  95.400000</td>\n",
        "    </tr>\n",
        "    <tr>\n",
        "      <th>3 </th>\n",
        "      <td>   60</td>\n",
        "      <td> 0.000000</td>\n",
        "      <td>  95.600000</td>\n",
        "    </tr>\n",
        "    <tr>\n",
        "      <th>4 </th>\n",
        "      <td>   80</td>\n",
        "      <td> 0.000000</td>\n",
        "      <td>  95.800000</td>\n",
        "    </tr>\n",
        "    <tr>\n",
        "      <th>5 </th>\n",
        "      <td>  100</td>\n",
        "      <td> 0.000000</td>\n",
        "      <td>  96.000000</td>\n",
        "    </tr>\n",
        "    <tr>\n",
        "      <th>6 </th>\n",
        "      <td>  120</td>\n",
        "      <td> 0.000000</td>\n",
        "      <td>  96.200000</td>\n",
        "    </tr>\n",
        "    <tr>\n",
        "      <th>7 </th>\n",
        "      <td>  140</td>\n",
        "      <td> 0.000000</td>\n",
        "      <td>  96.400000</td>\n",
        "    </tr>\n",
        "    <tr>\n",
        "      <th>8 </th>\n",
        "      <td>  160</td>\n",
        "      <td> 0.000000</td>\n",
        "      <td>  96.600000</td>\n",
        "    </tr>\n",
        "    <tr>\n",
        "      <th>9 </th>\n",
        "      <td>  180</td>\n",
        "      <td> 0.000000</td>\n",
        "      <td>  96.800000</td>\n",
        "    </tr>\n",
        "    <tr>\n",
        "      <th>10</th>\n",
        "      <td>  200</td>\n",
        "      <td> 0.000000</td>\n",
        "      <td>  97.000000</td>\n",
        "    </tr>\n",
        "    <tr>\n",
        "      <th>11</th>\n",
        "      <td>  220</td>\n",
        "      <td> 0.000000</td>\n",
        "      <td>  97.200000</td>\n",
        "    </tr>\n",
        "    <tr>\n",
        "      <th>12</th>\n",
        "      <td>  240</td>\n",
        "      <td> 0.000000</td>\n",
        "      <td>  97.400000</td>\n",
        "    </tr>\n",
        "    <tr>\n",
        "      <th>13</th>\n",
        "      <td>  260</td>\n",
        "      <td> 0.007886</td>\n",
        "      <td>  97.513381</td>\n",
        "    </tr>\n",
        "    <tr>\n",
        "      <th>14</th>\n",
        "      <td>  280</td>\n",
        "      <td> 0.070224</td>\n",
        "      <td>  97.022954</td>\n",
        "    </tr>\n",
        "    <tr>\n",
        "      <th>15</th>\n",
        "      <td>  300</td>\n",
        "      <td> 0.190984</td>\n",
        "      <td>  95.871123</td>\n",
        "    </tr>\n",
        "    <tr>\n",
        "      <th>16</th>\n",
        "      <td>  320</td>\n",
        "      <td> 0.362577</td>\n",
        "      <td>  94.128463</td>\n",
        "    </tr>\n",
        "    <tr>\n",
        "      <th>17</th>\n",
        "      <td>  340</td>\n",
        "      <td> 0.574222</td>\n",
        "      <td>  91.903900</td>\n",
        "    </tr>\n",
        "    <tr>\n",
        "      <th>18</th>\n",
        "      <td>  360</td>\n",
        "      <td> 0.812620</td>\n",
        "      <td>  89.338396</td>\n",
        "    </tr>\n",
        "    <tr>\n",
        "      <th>19</th>\n",
        "      <td>  380</td>\n",
        "      <td> 1.062792</td>\n",
        "      <td>  86.665912</td>\n",
        "    </tr>\n",
        "    <tr>\n",
        "      <th>20</th>\n",
        "      <td>  400</td>\n",
        "      <td> 1.309018</td>\n",
        "      <td>  84.202390</td>\n",
        "    </tr>\n",
        "    <tr>\n",
        "      <th>21</th>\n",
        "      <td>  420</td>\n",
        "      <td> 1.535828</td>\n",
        "      <td>  81.906535</td>\n",
        "    </tr>\n",
        "    <tr>\n",
        "      <th>22</th>\n",
        "      <td>  440</td>\n",
        "      <td> 1.728969</td>\n",
        "      <td>  79.933055</td>\n",
        "    </tr>\n",
        "    <tr>\n",
        "      <th>23</th>\n",
        "      <td>  460</td>\n",
        "      <td> 1.876307</td>\n",
        "      <td>  78.418362</td>\n",
        "    </tr>\n",
        "    <tr>\n",
        "      <th>24</th>\n",
        "      <td>  480</td>\n",
        "      <td> 1.968583</td>\n",
        "      <td>  77.471708</td>\n",
        "    </tr>\n",
        "    <tr>\n",
        "      <th>25</th>\n",
        "      <td>  500</td>\n",
        "      <td> 2.000000</td>\n",
        "      <td>  77.167893</td>\n",
        "    </tr>\n",
        "    <tr>\n",
        "      <th>26</th>\n",
        "      <td>  520</td>\n",
        "      <td> 1.968583</td>\n",
        "      <td>  77.542059</td>\n",
        "    </tr>\n",
        "    <tr>\n",
        "      <th>27</th>\n",
        "      <td>  540</td>\n",
        "      <td> 1.876307</td>\n",
        "      <td>  78.586913</td>\n",
        "    </tr>\n",
        "    <tr>\n",
        "      <th>28</th>\n",
        "      <td>  560</td>\n",
        "      <td> 1.728969</td>\n",
        "      <td>  80.252586</td>\n",
        "    </tr>\n",
        "    <tr>\n",
        "      <th>29</th>\n",
        "      <td>  580</td>\n",
        "      <td> 1.535828</td>\n",
        "      <td>  82.449187</td>\n",
        "    </tr>\n",
        "    <tr>\n",
        "      <th>30</th>\n",
        "      <td>  600</td>\n",
        "      <td> 1.309018</td>\n",
        "      <td>  85.051910</td>\n",
        "    </tr>\n",
        "    <tr>\n",
        "      <th>31</th>\n",
        "      <td>  620</td>\n",
        "      <td> 1.062792</td>\n",
        "      <td>  87.908424</td>\n",
        "    </tr>\n",
        "    <tr>\n",
        "      <th>32</th>\n",
        "      <td>  640</td>\n",
        "      <td> 0.812620</td>\n",
        "      <td>  91.094649</td>\n",
        "    </tr>\n",
        "    <tr>\n",
        "      <th>33</th>\n",
        "      <td>  660</td>\n",
        "      <td> 0.574222</td>\n",
        "      <td>  94.260594</td>\n",
        "    </tr>\n",
        "    <tr>\n",
        "      <th>34</th>\n",
        "      <td>  680</td>\n",
        "      <td> 0.362577</td>\n",
        "      <td>  97.129098</td>\n",
        "    </tr>\n",
        "    <tr>\n",
        "      <th>35</th>\n",
        "      <td>  700</td>\n",
        "      <td> 0.190984</td>\n",
        "      <td>  99.520123</td>\n",
        "    </tr>\n",
        "    <tr>\n",
        "      <th>36</th>\n",
        "      <td>  720</td>\n",
        "      <td> 0.070224</td>\n",
        "      <td> 101.280892</td>\n",
        "    </tr>\n",
        "    <tr>\n",
        "      <th>37</th>\n",
        "      <td>  740</td>\n",
        "      <td> 0.007886</td>\n",
        "      <td> 102.295966</td>\n",
        "    </tr>\n",
        "    <tr>\n",
        "      <th>38</th>\n",
        "      <td>  760</td>\n",
        "      <td> 0.000000</td>\n",
        "      <td> 102.600000</td>\n",
        "    </tr>\n",
        "    <tr>\n",
        "      <th>39</th>\n",
        "      <td>  780</td>\n",
        "      <td> 0.000000</td>\n",
        "      <td> 102.800000</td>\n",
        "    </tr>\n",
        "    <tr>\n",
        "      <th>40</th>\n",
        "      <td>  800</td>\n",
        "      <td> 0.000000</td>\n",
        "      <td> 103.000000</td>\n",
        "    </tr>\n",
        "    <tr>\n",
        "      <th>41</th>\n",
        "      <td>  820</td>\n",
        "      <td> 0.000000</td>\n",
        "      <td> 103.200000</td>\n",
        "    </tr>\n",
        "    <tr>\n",
        "      <th>42</th>\n",
        "      <td>  840</td>\n",
        "      <td> 0.000000</td>\n",
        "      <td> 103.400000</td>\n",
        "    </tr>\n",
        "    <tr>\n",
        "      <th>43</th>\n",
        "      <td>  860</td>\n",
        "      <td> 0.000000</td>\n",
        "      <td> 103.600000</td>\n",
        "    </tr>\n",
        "    <tr>\n",
        "      <th>44</th>\n",
        "      <td>  880</td>\n",
        "      <td> 0.000000</td>\n",
        "      <td> 103.800000</td>\n",
        "    </tr>\n",
        "    <tr>\n",
        "      <th>45</th>\n",
        "      <td>  900</td>\n",
        "      <td> 0.000000</td>\n",
        "      <td> 104.000000</td>\n",
        "    </tr>\n",
        "    <tr>\n",
        "      <th>46</th>\n",
        "      <td>  920</td>\n",
        "      <td> 0.000000</td>\n",
        "      <td> 104.200000</td>\n",
        "    </tr>\n",
        "    <tr>\n",
        "      <th>47</th>\n",
        "      <td>  940</td>\n",
        "      <td> 0.000000</td>\n",
        "      <td> 104.400000</td>\n",
        "    </tr>\n",
        "    <tr>\n",
        "      <th>48</th>\n",
        "      <td>  960</td>\n",
        "      <td> 0.000000</td>\n",
        "      <td> 104.600000</td>\n",
        "    </tr>\n",
        "    <tr>\n",
        "      <th>49</th>\n",
        "      <td>  980</td>\n",
        "      <td> 0.000000</td>\n",
        "      <td> 104.800000</td>\n",
        "    </tr>\n",
        "    <tr>\n",
        "      <th>50</th>\n",
        "      <td> 1000</td>\n",
        "      <td> 0.000000</td>\n",
        "      <td> 105.000000</td>\n",
        "    </tr>\n",
        "  </tbody>\n",
        "</table>\n",
        "</div>"
       ],
       "metadata": {},
       "output_type": "pyout",
       "prompt_number": 11,
       "text": [
        "    x, (km)  Zground, (km)  Psfc (kPa)\n",
        "0         0       0.000000   95.000000\n",
        "1        20       0.000000   95.200000\n",
        "2        40       0.000000   95.400000\n",
        "3        60       0.000000   95.600000\n",
        "4        80       0.000000   95.800000\n",
        "5       100       0.000000   96.000000\n",
        "6       120       0.000000   96.200000\n",
        "7       140       0.000000   96.400000\n",
        "8       160       0.000000   96.600000\n",
        "9       180       0.000000   96.800000\n",
        "10      200       0.000000   97.000000\n",
        "11      220       0.000000   97.200000\n",
        "12      240       0.000000   97.400000\n",
        "13      260       0.007886   97.513381\n",
        "14      280       0.070224   97.022954\n",
        "15      300       0.190984   95.871123\n",
        "16      320       0.362577   94.128463\n",
        "17      340       0.574222   91.903900\n",
        "18      360       0.812620   89.338396\n",
        "19      380       1.062792   86.665912\n",
        "20      400       1.309018   84.202390\n",
        "21      420       1.535828   81.906535\n",
        "22      440       1.728969   79.933055\n",
        "23      460       1.876307   78.418362\n",
        "24      480       1.968583   77.471708\n",
        "25      500       2.000000   77.167893\n",
        "26      520       1.968583   77.542059\n",
        "27      540       1.876307   78.586913\n",
        "28      560       1.728969   80.252586\n",
        "29      580       1.535828   82.449187\n",
        "30      600       1.309018   85.051910\n",
        "31      620       1.062792   87.908424\n",
        "32      640       0.812620   91.094649\n",
        "33      660       0.574222   94.260594\n",
        "34      680       0.362577   97.129098\n",
        "35      700       0.190984   99.520123\n",
        "36      720       0.070224  101.280892\n",
        "37      740       0.007886  102.295966\n",
        "38      760       0.000000  102.600000\n",
        "39      780       0.000000  102.800000\n",
        "40      800       0.000000  103.000000\n",
        "41      820       0.000000  103.200000\n",
        "42      840       0.000000  103.400000\n",
        "43      860       0.000000  103.600000\n",
        "44      880       0.000000  103.800000\n",
        "45      900       0.000000  104.000000\n",
        "46      920       0.000000  104.200000\n",
        "47      940       0.000000  104.400000\n",
        "48      960       0.000000  104.600000\n",
        "49      980       0.000000  104.800000\n",
        "50     1000       0.000000  105.000000"
       ]
      }
     ],
     "prompt_number": 11
    },
    {
     "cell_type": "heading",
     "level": 1,
     "metadata": {},
     "source": [
      "Exercise III"
     ]
    },
    {
     "cell_type": "markdown",
     "metadata": {},
     "source": [
      "Calculate terrain-following coordinate.\n",
      "\n",
      "By refering to WRF Tech. Note, we have:\n",
      "\n",
      "\\begin{equation*}\n",
      "\\eta = \\frac{\\left(p_h-p_{ht}\\right)}{p_{hs}-p_{ht}}\n",
      "\\end{equation*}\n",
      "\n",
      "Thus we get the terrain-following coordinate $\\eta$."
     ]
    },
    {
     "cell_type": "code",
     "collapsed": false,
     "input": [
      "P_top = 2 # kPa\n",
      "eta = (P - 2)/(Pground - 2) "
     ],
     "language": "python",
     "metadata": {},
     "outputs": [],
     "prompt_number": 12
    },
    {
     "cell_type": "code",
     "collapsed": false,
     "input": [
      "clevs = [0, 0.1, 0.2, 0.3, 0.4, 0.5, 0.6, 0.7, 0.8, 0.85, 0.9, 0.95, 1]\n",
      "fig=plt.figure(figsize=(14, 8))\n",
      "ax=plt.gca()\n",
      "ax.set_xlabel('x ( km )', fontsize=12, fontweight='bold')\n",
      "ax.set_ylabel('z ( km )', fontsize=12, fontweight='bold')\n",
      "ax.set_title('Terrain-following corrdinate on x-z domain', fontsize=14, fontweight='bold')\n",
      "CS=ax.contour(x_grid, z_grid, eta, clevs, colors=('k'), linewidths=2.5)\n",
      "ax.clabel(CS, clevs, inline=1, fmt='%1.2f', fontsize=14)\n",
      "baseline=np.zeros(Zground.shape)\n",
      "ax.fill_between(x, Zground, baseline, where=(Zground>=baseline), facecolor='gray', edgecolor='gray', zorder=2)"
     ],
     "language": "python",
     "metadata": {},
     "outputs": [
      {
       "metadata": {},
       "output_type": "pyout",
       "prompt_number": 13,
       "text": [
        "<matplotlib.collections.PolyCollection at 0x15f06518>"
       ]
      },
      {
       "metadata": {},
       "output_type": "display_data",
       "png": "[encoded data removed]",
       "text": [
        "<matplotlib.figure.Figure at 0xc209a90>"
       ]
      }
     ],
     "prompt_number": 13
    }
   ],
   "metadata": {}
  }
 ]
}