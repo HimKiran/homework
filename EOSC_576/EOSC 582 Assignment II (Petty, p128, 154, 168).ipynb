{
 "cells": [
  {
   "cell_type": "markdown",
   "metadata": {},
   "source": [
    "# EOSC 582 Assignment II (Petty, p128, 154, 168) - Due Feb 13"
   ]
  },
  {
   "cell_type": "code",
   "execution_count": 1,
   "metadata": {
    "collapsed": false
   },
   "outputs": [],
   "source": [
    "__author__ = 'Yingkai (Kyle) Sha'\n",
    "__email__  = 'yingkai@eos.ubc.ca' "
   ]
  },
  {
   "cell_type": "markdown",
   "metadata": {},
   "source": [
    "# Content\n",
    "1. [**Problem 6.9**](#Problem-6.9)\n",
    "1. [**Problem 6.28**](#Problem-6.28)\n",
    "1. [**Problem 7.4**](#Problem-7.4)"
   ]
  },
  {
   "cell_type": "code",
   "execution_count": 2,
   "metadata": {
    "collapsed": false
   },
   "outputs": [],
   "source": [
    "import numpy as np\n",
    "import matplotlib.pyplot as plt\n",
    "from __future__ import print_function\n",
    "% matplotlib inline"
   ]
  },
  {
   "cell_type": "markdown",
   "metadata": {},
   "source": [
    "# Problem 6.9"
   ]
  },
  {
   "cell_type": "markdown",
   "metadata": {},
   "source": [
    "**Q1: Calculate $\\mathrm{T_B}$**\n",
    "\n",
    "We can use inverse Planck function for $\\mathrm{T_B}$:\n",
    "\n",
    "\\begin{equation*}\n",
    "    T_B\\left(\\lambda, L_e\\right) = \\frac{2h/k_B}{\\lambda \\ln{\\left( 2hc^2/\\lambda^5 L_e+1 \\right)}}\n",
    "\\end{equation*}\n",
    "\n",
    "$h$: Planck constant; $k_B$: Boltzmann constant; $c$: Speed of light."
   ]
  },
  {
   "cell_type": "markdown",
   "metadata": {},
   "source": [
    "Given conditions:"
   ]
  },
  {
   "cell_type": "code",
   "execution_count": 3,
   "metadata": {
    "collapsed": false
   },
   "outputs": [],
   "source": [
    "wave_length = 12*1e-6 # m\n",
    "radiance    = 6.2*1e6 # W/m^2/m/sr"
   ]
  },
  {
   "cell_type": "markdown",
   "metadata": {},
   "source": [
    "Constants:"
   ]
  },
  {
   "cell_type": "code",
   "execution_count": 4,
   "metadata": {
    "collapsed": false
   },
   "outputs": [],
   "source": [
    "c=2.99792458e+08  # m/s, Speed of light\n",
    "h=6.62606876e-34  # Js, Planck constant\n",
    "kb=1.3806503e-23  # J/K, Boltzman constant"
   ]
  },
  {
   "cell_type": "markdown",
   "metadata": {},
   "source": [
    "Calculate $\\mathrm{T_B}$"
   ]
  },
  {
   "cell_type": "code",
   "execution_count": 5,
   "metadata": {
    "collapsed": false
   },
   "outputs": [
    {
     "name": "stdout",
     "output_type": "stream",
     "text": [
      "Brightness Temperature: 275.039598465\n"
     ]
    }
   ],
   "source": [
    "TB = (h*c/kb)/(wave_length*np.log((2 * h * c**2)/(wave_length**5 * radiance) + 1))\n",
    "print('Brightness Temperature: {}'.format(TB))"
   ]
  },
  {
   "cell_type": "markdown",
   "metadata": {},
   "source": [
    "** Q2: Calculate real temperature by using emissivity** \n",
    "\n",
    "If the surface is in a thermal equilibrium state, we can use *Kirchhoff's law* and get the following relation:\n",
    "\n",
    "\\begin{equation*} \n",
    "    L_e = \\epsilon \\cdot L_b\n",
    "\\end{equation*}\n",
    "\n",
    "$\\mathrm{L_e}$: \"true\" radiance; $\\mathrm{L_b}$: \"equvilant\" black body radiance.\n",
    "\n",
    "Thus we get the right black body radiance for inverse Planck function."
   ]
  },
  {
   "cell_type": "code",
   "execution_count": 6,
   "metadata": {
    "collapsed": false
   },
   "outputs": [],
   "source": [
    "emiss = 0.9\n",
    "radiance = radiance / emiss"
   ]
  },
  {
   "cell_type": "code",
   "execution_count": 7,
   "metadata": {
    "collapsed": false
   },
   "outputs": [
    {
     "name": "stdout",
     "output_type": "stream",
     "text": [
      "True Temperature: 275.039598465\n"
     ]
    }
   ],
   "source": [
    "T_true = (h*c/kb)/(wave_length*np.log((2 * h * c**2)/(wave_length**5 * radiance) + 1))\n",
    "print('True Temperature: {}'.format(TB))"
   ]
  },
  {
   "cell_type": "markdown",
   "metadata": {},
   "source": [
    "** Q3: Ratio of brightness temperature and true temperature **"
   ]
  },
  {
   "cell_type": "code",
   "execution_count": 8,
   "metadata": {
    "collapsed": false
   },
   "outputs": [
    {
     "data": {
      "text/plain": [
       "0.97615654535521668"
      ]
     },
     "execution_count": 8,
     "metadata": {},
     "output_type": "execute_result"
    }
   ],
   "source": [
    "TB/T_true"
   ]
  },
  {
   "cell_type": "markdown",
   "metadata": {},
   "source": [
    "The ratio is **not equal** to emissivity, and we can prove that by play with Planck function."
   ]
  },
  {
   "cell_type": "markdown",
   "metadata": {},
   "source": [
    "# Problem 6.28"
   ]
  },
  {
   "cell_type": "code",
   "execution_count": 9,
   "metadata": {
    "collapsed": false
   },
   "outputs": [],
   "source": [
    "Freq = np.array([    6.93    ,     10.65   ,    18.70    ,    23.80    ,    36.50    ,     89.00   ])\n",
    "N_10 = np.array([8.095+2.371j, 7.431+2.708j, 6.164+2.980j, 5.566+2.958j, 4.575+2.721j, 3.115+1.842j])\n",
    "N_20 = np.array([8.211+2.144j, 7.745+2.416j, 6.712+2.819j, 6.151+2.901j, 5.123+2.831j, 3.433+2.083j])"
   ]
  },
  {
   "cell_type": "markdown",
   "metadata": {},
   "source": [
    "** Q1: Calculate brightness temperature for all cases**\n",
    "\n",
    "Since the surface is smooth, we can use *Fresnel relations* for reflectivity:\n",
    "\n",
    "* For vertical polarization:\n",
    "\\begin{equation*}\n",
    "    R_p = \\left| \\frac{cos \\Phi_t - Ncos \\Phi_i}{cos \\Phi_t + Ncos \\Phi_i} \\right|^2\n",
    "\\end{equation*}\n",
    "* For horizontal polarization:\n",
    "\\begin{equation*}\n",
    "    R_s = \\left| \\frac{cos \\Phi_i - Ncos \\Phi_t}{cos \\Phi_i + Ncos \\Phi_t} \\right|^2\n",
    "\\end{equation*}\n",
    "\n",
    "Here $\\mathrm \\Phi_i = 55 ^ \\circ $. According to *Snell's Law*:\n",
    "\\begin{equation*}\n",
    "    \\Phi_t = arcsin\\left( \\frac{sin\\left( \\Phi_i \\right)}{N} \\right)\n",
    "\\end{equation*}\n",
    "\n",
    "Then we can calculate $\\mathrm{T_B}$ as:\n",
    "\n",
    "* for horizontal channel:\n",
    "\n",
    "\\begin{equation*}\n",
    "    T_{B} =  \\epsilon_s T = \\left( 1 - R_s \\right) T\n",
    "\\end{equation*}\n",
    "\n",
    "* for vertical channel:\n",
    "\n",
    "\\begin{equation*}\n",
    "    T_{B} = \\epsilon_p T = \\left( 1 - R_p \\right) T\n",
    "\\end{equation*}"
   ]
  },
  {
   "cell_type": "code",
   "execution_count": 10,
   "metadata": {
    "collapsed": false
   },
   "outputs": [],
   "source": [
    "def TBright_calc(theta_i, N, T):\n",
    "    theta_t = np.arcsin( np.sin(theta_i)/N )\n",
    "    Rp = np.abs((np.cos(theta_t) - N*np.cos(theta_i))/(np.cos(theta_t) + N*np.cos(theta_i)))**2\n",
    "    Rs = np.abs((np.cos(theta_i) - N*np.cos(theta_t))/(np.cos(theta_i) + N*np.cos(theta_t)))**2\n",
    "    TBH = T * (1-Rs)\n",
    "    TBV = T * (1-Rp)\n",
    "    return TBH, TBV"
   ]
  },
  {
   "cell_type": "code",
   "execution_count": 11,
   "metadata": {
    "collapsed": false
   },
   "outputs": [],
   "source": [
    "theta_i = 55./360*2*np.pi"
   ]
  },
  {
   "cell_type": "markdown",
   "metadata": {},
   "source": [
    "calculate all the cases in a for-loop."
   ]
  },
  {
   "cell_type": "code",
   "execution_count": 12,
   "metadata": {
    "collapsed": false
   },
   "outputs": [],
   "source": [
    "TBH = np.empty([len(Freq), 2]) # horizontal channel for 10 and 20 degC cases\n",
    "TBV = np.empty([len(Freq), 2])\n",
    "for i in range(len(Freq)):\n",
    "    TBH10, TBV10 = TBright_calc(theta_i, N_10[i], 10+273.15)\n",
    "    TBH20, TBV20 = TBright_calc(theta_i, N_20[i], 20+273.15)\n",
    "    TBH[i, :] = [TBH10, TBH20]\n",
    "    TBV[i, :] = [TBV10, TBV20]"
   ]
  },
  {
   "cell_type": "markdown",
   "metadata": {},
   "source": [
    "Show the result."
   ]
  },
  {
   "cell_type": "code",
   "execution_count": 13,
   "metadata": {
    "collapsed": false
   },
   "outputs": [
    {
     "name": "stdout",
     "output_type": "stream",
     "text": [
      "Brightness temperature: \n",
      "==============================\n",
      "i) Horizontal channels\n",
      "\t10degC\t\t20degC\n",
      "[[  65.29532065   67.7465206 ]\n",
      " [  67.77121174   69.62032484]\n",
      " [  73.8818992    74.1318003 ]\n",
      " [  77.90979187   77.25596997]\n",
      " [  87.5757405    85.1777878 ]\n",
      " [ 118.80285239  112.98584178]]\n",
      "ii) Vertical channels\n",
      "\t10degC\t\t20degC\n",
      "[[ 155.74584188  161.52381861]\n",
      " [ 160.07532803  164.81423215]\n",
      " [ 170.31082826  172.47891809]\n",
      " [ 176.72608374  177.59438292]\n",
      " [ 191.0977424   189.89451221]\n",
      " [ 228.61742715  226.08061735]]\n",
      "==============================\n"
     ]
    }
   ],
   "source": [
    "print('Brightness temperature: \\n==============================\\ni) Horizontal channels\\n\\t10degC\\t\\t20degC')\n",
    "print(TBH)\n",
    "print('ii) Vertical channels\\n\\t10degC\\t\\t20degC')\n",
    "print(TBV)\n",
    "print('==============================')"
   ]
  },
  {
   "cell_type": "markdown",
   "metadata": {},
   "source": [
    "** Sensitivity, find the best channel **\n",
    "\n",
    "Here I define the sensitivity as:\n",
    "\n",
    "\\begin{equation*}\n",
    "    \\frac{T_B(20^\\circ C) - T_B(10^\\circ C)}{10^\\circ C}\n",
    "\\end{equation*}\n",
    "\n",
    "And we believe sensible channel is good."
   ]
  },
  {
   "cell_type": "code",
   "execution_count": 14,
   "metadata": {
    "collapsed": false
   },
   "outputs": [],
   "source": [
    "Sen_TBH = (TBH[:, 1] - TBH[:, 0])/10\n",
    "Sen_TBV = (TBV[:, 1] - TBV[:, 0])/10"
   ]
  },
  {
   "cell_type": "markdown",
   "metadata": {},
   "source": [
    "compare the results."
   ]
  },
  {
   "cell_type": "code",
   "execution_count": 15,
   "metadata": {
    "collapsed": false
   },
   "outputs": [
    {
     "name": "stdout",
     "output_type": "stream",
     "text": [
      "Frequency: \n",
      "[  6.93  10.65  18.7   23.8   36.5   89.  ]\n",
      "Sensitivity for horizontal channel: \n",
      "[ 0.24512     0.18491131  0.02499011 -0.06538219 -0.23979527 -0.58170106]\n",
      "Sensitivity for vertical channel: \n",
      "[ 0.57779767  0.47389041  0.21680898  0.08682992 -0.12032302 -0.25368098]\n"
     ]
    }
   ],
   "source": [
    "print('Frequency: \\n{}'.format(Freq))\n",
    "print('Sensitivity for horizontal channel: \\n{}'.format(Sen_TBH))\n",
    "print('Sensitivity for vertical channel: \\n{}'.format(Sen_TBV))"
   ]
  },
  {
   "cell_type": "markdown",
   "metadata": {},
   "source": [
    "Channels with frequency higher than 23.8 GHz is not recomended, so we will use **6.93 GHz vertical** channel."
   ]
  },
  {
   "cell_type": "markdown",
   "metadata": {},
   "source": [
    "# Problem 7.4"
   ]
  },
  {
   "cell_type": "markdown",
   "metadata": {},
   "source": [
    "We can fill the blank with the following equations:\n",
    "\n",
    "\\begin{equation*}\n",
    "    \\beta_e = \\rho k_e = \\sigma_eN\n",
    "\\end{equation*}\n",
    "\n",
    "\\begin{equation*}\n",
    "    \\widetilde{\\omega} = \\frac{\\beta_s}{\\beta_e}\n",
    "\\end{equation*}\n",
    "\n",
    "\\begin{equation*}\n",
    "    \\sigma_e = k_em\n",
    "\\end{equation*}\n",
    "\n",
    "\\begin{equation*}\n",
    "    Qe = \\frac{\\sigma_e}{A}\n",
    "\\end{equation*}\n",
    "\n",
    "And here I just type the results:"
   ]
  },
  {
   "cell_type": "code",
   "execution_count": 16,
   "metadata": {
    "collapsed": false
   },
   "outputs": [],
   "source": [
    "a = np.array([3.89e2, 6.6e21, 2.8e-19 , 1e-4, 0  , 7.3e-26 , 4.8e-4 , 2.83e-23, 0.187  , 0      ]).T\n",
    "b = np.array([1e3   , 1e10  , 7.07e-14, 0.2 , 0.1, 1.41e-17, 1.41e-7, 1.41e-14, 1.41e-4, 1.41e-5]).T\n",
    "c = np.array([0.45  , 80    , 3.14e-6 , 0.6 , 0.4, 4.19e-6 , 3.35e-4, 1.89e-6 , 1.51e-4, 6.03e-5]).T\n",
    "d = np.array([150   , 1e9   , 3.14e-10, 2   , 0.9, 4.19e-12, 4.19e-3, 6.28e-10, 0.628  , 0.565  ]).T"
   ]
  },
  {
   "cell_type": "code",
   "execution_count": 17,
   "metadata": {
    "collapsed": false
   },
   "outputs": [],
   "source": [
    "import csv\n",
    "import pandas\n",
    "from itertools import izip"
   ]
  },
  {
   "cell_type": "code",
   "execution_count": 18,
   "metadata": {
    "collapsed": false
   },
   "outputs": [],
   "source": [
    "with open('eosc582_a2_p74.csv', 'wb') as f:\n",
    "    writer = csv.writer(f)\n",
    "    writer.writerows(izip(a, b, c, d))"
   ]
  },
  {
   "cell_type": "code",
   "execution_count": 19,
   "metadata": {
    "collapsed": false
   },
   "outputs": [
    {
     "data": {
      "text/html": [
       "<div style=\"max-height:1000px;max-width:1500px;overflow:auto;\">\n",
       "<table border=\"1\" class=\"dataframe\">\n",
       "  <thead>\n",
       "    <tr style=\"text-align: right;\">\n",
       "      <th></th>\n",
       "      <th>(a)</th>\n",
       "      <th>(b)</th>\n",
       "      <th>(c)</th>\n",
       "      <th>(d)</th>\n",
       "    </tr>\n",
       "  </thead>\n",
       "  <tbody>\n",
       "    <tr>\n",
       "      <th>0</th>\n",
       "      <td> 3.890000e+02</td>\n",
       "      <td> 1.000000e+03</td>\n",
       "      <td>  0.450000</td>\n",
       "      <td> 1.500000e+02</td>\n",
       "    </tr>\n",
       "    <tr>\n",
       "      <th>1</th>\n",
       "      <td> 6.600000e+21</td>\n",
       "      <td> 1.000000e+10</td>\n",
       "      <td> 80.000000</td>\n",
       "      <td> 1.000000e+09</td>\n",
       "    </tr>\n",
       "    <tr>\n",
       "      <th>2</th>\n",
       "      <td> 2.800000e-19</td>\n",
       "      <td> 7.070000e-14</td>\n",
       "      <td>  0.000003</td>\n",
       "      <td> 3.140000e-10</td>\n",
       "    </tr>\n",
       "    <tr>\n",
       "      <th>3</th>\n",
       "      <td> 1.000000e-04</td>\n",
       "      <td> 2.000000e-01</td>\n",
       "      <td>  0.600000</td>\n",
       "      <td> 2.000000e+00</td>\n",
       "    </tr>\n",
       "    <tr>\n",
       "      <th>4</th>\n",
       "      <td> 0.000000e+00</td>\n",
       "      <td> 1.000000e-01</td>\n",
       "      <td>  0.400000</td>\n",
       "      <td> 9.000000e-01</td>\n",
       "    </tr>\n",
       "    <tr>\n",
       "      <th>5</th>\n",
       "      <td> 7.300000e-26</td>\n",
       "      <td> 1.410000e-17</td>\n",
       "      <td>  0.000004</td>\n",
       "      <td> 4.190000e-12</td>\n",
       "    </tr>\n",
       "    <tr>\n",
       "      <th>6</th>\n",
       "      <td> 4.800000e-04</td>\n",
       "      <td> 1.410000e-07</td>\n",
       "      <td>  0.000335</td>\n",
       "      <td> 4.190000e-03</td>\n",
       "    </tr>\n",
       "    <tr>\n",
       "      <th>7</th>\n",
       "      <td> 2.830000e-23</td>\n",
       "      <td> 1.410000e-14</td>\n",
       "      <td>  0.000002</td>\n",
       "      <td> 6.280000e-10</td>\n",
       "    </tr>\n",
       "    <tr>\n",
       "      <th>8</th>\n",
       "      <td> 1.870000e-01</td>\n",
       "      <td> 1.410000e-04</td>\n",
       "      <td>  0.000151</td>\n",
       "      <td> 6.280000e-01</td>\n",
       "    </tr>\n",
       "    <tr>\n",
       "      <th>9</th>\n",
       "      <td> 0.000000e+00</td>\n",
       "      <td> 1.410000e-05</td>\n",
       "      <td>  0.000060</td>\n",
       "      <td> 5.650000e-01</td>\n",
       "    </tr>\n",
       "  </tbody>\n",
       "</table>\n",
       "</div>"
      ],
      "text/plain": [
       "            (a)           (b)        (c)           (d)\n",
       "0  3.890000e+02  1.000000e+03   0.450000  1.500000e+02\n",
       "1  6.600000e+21  1.000000e+10  80.000000  1.000000e+09\n",
       "2  2.800000e-19  7.070000e-14   0.000003  3.140000e-10\n",
       "3  1.000000e-04  2.000000e-01   0.600000  2.000000e+00\n",
       "4  0.000000e+00  1.000000e-01   0.400000  9.000000e-01\n",
       "5  7.300000e-26  1.410000e-17   0.000004  4.190000e-12\n",
       "6  4.800000e-04  1.410000e-07   0.000335  4.190000e-03\n",
       "7  2.830000e-23  1.410000e-14   0.000002  6.280000e-10\n",
       "8  1.870000e-01  1.410000e-04   0.000151  6.280000e-01\n",
       "9  0.000000e+00  1.410000e-05   0.000060  5.650000e-01"
      ]
     },
     "execution_count": 19,
     "metadata": {},
     "output_type": "execute_result"
    }
   ],
   "source": [
    "pd_table = pandas.read_csv('eosc582_a2_p74.csv', names=['(a)', '(b)', '(c)', '(d)'])\n",
    "pd_table"
   ]
  },
  {
   "cell_type": "code",
   "execution_count": 19,
   "metadata": {
    "collapsed": false
   },
   "outputs": [],
   "source": []
  }
 ],
 "metadata": {
  "kernelspec": {
   "display_name": "Python 2",
   "language": "python",
   "name": "python2"
  },
  "language_info": {
   "codemirror_mode": {
    "name": "ipython",
    "version": 2
   },
   "file_extension": ".py",
   "mimetype": "text/x-python",
   "name": "python",
   "nbconvert_exporter": "python",
   "pygments_lexer": "ipython2",
   "version": "2.7.7"
  }
 },
 "nbformat": 4,
 "nbformat_minor": 0
}
